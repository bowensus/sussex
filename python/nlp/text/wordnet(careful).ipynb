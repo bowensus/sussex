{
 "cells": [
  {
   "cell_type": "markdown",
   "id": "06398043",
   "metadata": {
    "id": "06398043"
   },
   "source": [
    "# Applied Natural Language Processing 955G5\n",
    "## Computer Based Examination, 2023\n",
    "\n",
    "Remember, you can add cells and change their type (between code and text/markdown) as required to answer the questions."
   ]
  },
  {
   "cell_type": "code",
   "execution_count": null,
   "id": "e22551f9",
   "metadata": {
    "id": "e22551f9"
   },
   "outputs": [],
   "source": [
    "# update your candidate number here\n",
    "candidate_number = 11111111"
   ]
  },
  {
   "cell_type": "markdown",
   "id": "9f04a3f2",
   "metadata": {
    "id": "9f04a3f2"
   },
   "source": [
    "# Question 3 (50 Marks)\n",
    "\n",
    "This question is about lexical semantics, WordNet and part-of-speech tagging."
   ]
  },
  {
   "cell_type": "code",
   "execution_count": 2,
   "id": "f8002162",
   "metadata": {
    "id": "f8002162",
    "ExecuteTime": {
     "end_time": "2024-01-14T19:42:55.700187700Z",
     "start_time": "2024-01-14T19:42:54.652344300Z"
    }
   },
   "outputs": [
    {
     "name": "stderr",
     "output_type": "stream",
     "text": [
      "[nltk_data] Downloading package wordnet to\n",
      "[nltk_data]     C:\\Users\\Administrator\\AppData\\Roaming\\nltk_data...\n",
      "[nltk_data]   Package wordnet is already up-to-date!\n",
      "[nltk_data] Downloading package omw-1.4 to\n",
      "[nltk_data]     C:\\Users\\Administrator\\AppData\\Roaming\\nltk_data...\n"
     ]
    },
    {
     "data": {
      "text/plain": "True"
     },
     "execution_count": 2,
     "metadata": {},
     "output_type": "execute_result"
    }
   ],
   "source": [
    "#do not change the code in this cell\n",
    "import nltk\n",
    "nltk.download('wordnet')\n",
    "nltk.download('omw-1.4')"
   ]
  },
  {
   "cell_type": "markdown",
   "id": "4a32e7f8",
   "metadata": {
    "id": "4a32e7f8"
   },
   "source": [
    "a) Write code using WordNet to make a list of all of the possible synonyms of the word `slip`.  Make sure you filter the list so that it does not contain itself or any duplicates (i.e., each synonym should occur exactly once in the list).  Display the final list in the output. (10 marks)"
   ]
  },
  {
   "cell_type": "code",
   "execution_count": 10,
   "id": "d353083d",
   "metadata": {
    "id": "d353083d",
    "ExecuteTime": {
     "end_time": "2024-01-14T19:48:31.885975Z",
     "start_time": "2024-01-14T19:48:31.881921600Z"
    }
   },
   "outputs": [
    {
     "name": "stdout",
     "output_type": "stream",
     "text": [
      "Synonyms of 'slip':\n",
      "['berth', 'gaucherie', 'slide', 'teddy', 'slip-up', 'sideslip', 'strip', 'slickness', 'shift', 'mistake', 'trip', 'slew', 'slick', 'pillow_slip', 'eluding', 'fall_away', 'splay', 'miscue', 'skid', 'luxate', 'steal', 'pillowcase', 'elusion', 'slue', 'faux_pas', 'parapraxis', 'case', 'err', \"slip_one's_mind\", 'mooring', 'drop_off', 'sneak', 'moorage', 'shimmy', 'slipperiness', 'dislocate', 'chemise', 'slip_of_paper', 'cutting', 'drop_away', 'gaffe', 'solecism']\n"
     ]
    }
   ],
   "source": [
    "from nltk.corpus import wordnet\n",
    "\n",
    "def get_synonyms(word):\n",
    "    synonyms = set()\n",
    "    synset = wordnet.synsets(word)\n",
    "\n",
    "    for syn in synset:\n",
    "        for lemma in syn.lemmas():\n",
    "            synonym = lemma.name()\n",
    "            if synonym != word:\n",
    "                synonyms.add(synonym.lower()) \n",
    "    \n",
    "    return list(synonyms)\n",
    "\n",
    "word = \"slip\"\n",
    "synonyms_of_slip = get_synonyms(word)\n",
    "\n",
    "print(\"Synonyms of '{}':\". format(word))\n",
    "print(synonyms_of_slip)\n"
   ]
  },
  {
   "cell_type": "markdown",
   "id": "f0b4e864",
   "metadata": {
    "id": "f0b4e864"
   },
   "source": [
    "b) Consider the word `slip` as used in the following sentence:\n",
    "\n",
    "`he tried to creep along slowly and quietly slip past the guards`\n",
    "\n",
    "A Hidden Markov Model POS tagger is being used to assign part-of-speech tags to the words in this sentence.  Given the choices noun (N), verb (V), adjective (J), adverb (R) and preposition (P), explain which part-of-speech is likely to be assigned to the word `slip` by the tagger and why.  (8 marks)\n",
    "\n",
    "\n",
    "In this particular situation, the word \"slip\" is employed as a verb, signifying the act of moving discreetly or effortlessly to navigate past a person or object without drawing attention.\n",
    "\n",
    "Considering the grammatical function, context, and insights gleaned from training data, it is probable that a Hidden Markov Model (HMM) POS tagger would designate the part-of-speech tag of a verb (V) to the term \"slip\" within the provided sentence."
   ]
  },
  {
   "cell_type": "markdown",
   "id": "8ba21365",
   "metadata": {
    "id": "8ba21365"
   },
   "source": []
  },
  {
   "cell_type": "markdown",
   "id": "20611cbc",
   "metadata": {
    "id": "20611cbc"
   },
   "source": [
    "c) Make a new list of synonyms of the word `slip` which are consistent with the part-of-speech tag chosen in part b) (5 marks)"
   ]
  },
  {
   "cell_type": "code",
   "execution_count": 19,
   "id": "1492760a",
   "metadata": {
    "id": "1492760a",
    "ExecuteTime": {
     "end_time": "2024-01-14T19:59:23.651859300Z",
     "start_time": "2024-01-14T19:59:23.646027100Z"
    }
   },
   "outputs": [
    {
     "name": "stdout",
     "output_type": "stream",
     "text": [
      "Verb Synonyms of 'slip':\n",
      "[\"slip_one's_mind\", 'skid', 'slide', 'steal', 'drop_off', 'sneak', 'luxate', 'mistake', 'dislocate', 'slew', 'slue', 'fall_away', 'err', 'drop_away', 'splay']\n"
     ]
    }
   ],
   "source": [
    "def get_verb_synonyms(word):\n",
    "    synonyms = set()\n",
    "    synset = wordnet.synsets(word)\n",
    "\n",
    "    for syn in synset:\n",
    "        if syn.pos() == 'v':\n",
    "            for lemma in syn.lemmas():\n",
    "                if lemma.name() != word:\n",
    "                    synonyms.add(lemma.name().lower()) \n",
    "\n",
    "    return list(synonyms)\n",
    "\n",
    "verb_synonyms_of_slip = get_verb_synonyms(word)\n",
    "\n",
    "print(\"Verb Synonyms of '{}':\".format(word))\n",
    "print(verb_synonyms_of_slip)\n"
   ]
  },
  {
   "cell_type": "markdown",
   "id": "a3659ecd",
   "metadata": {
    "id": "a3659ecd"
   },
   "source": [
    "d) Explain 1 way in which WordNet can be used to determine the semantic similarity of two words of the same part-of-speech. (6 marks)"
   ]
  },
  {
   "cell_type": "markdown",
   "id": "f5355171",
   "metadata": {
    "id": "f5355171"
   },
   "source": [
    "WordNet is a hierarchical tree structure that enables the computation of semantic similarity between two words through the shortest path connecting them. The concept is that a shorter path implies higher similarity. After identifying the shortest path and determining its length, the path length is then standardized by dividing it by the maximum potential path length. This normalization yields a similarity score, where a higher score signifies increased semantic similarity."
   ]
  },
  {
   "cell_type": "markdown",
   "id": "c1860273",
   "metadata": {
    "id": "c1860273"
   },
   "source": [
    "e) In order to decide which of the synonyms of `slip` (identified in part d) is the best potential replacement for `slip` in the sentence (in part b), a method is proposed which calculates the average semantic similarity of each potential replacement to each word in the sentence.  The replacement with the highest average similarity is chosen.  Ignoring any words / senses which are not of the correct part-of-speech, implement this method and comment on the suitability of the chosen replacement. (13 marks)"
   ]
  },
  {
   "cell_type": "code",
   "execution_count": 27,
   "id": "c4376be7",
   "metadata": {
    "id": "c4376be7",
    "ExecuteTime": {
     "end_time": "2024-01-14T20:35:16.884299700Z",
     "start_time": "2024-01-14T20:35:16.860821800Z"
    }
   },
   "outputs": [
    {
     "name": "stdout",
     "output_type": "stream",
     "text": [
      "Best Replacement: slip_one's_mind\n"
     ]
    }
   ],
   "source": [
    "def calculate_path_similarity(word1, word2):\n",
    "    synset1 = wordnet.synsets(word1)\n",
    "    synset2 = wordnet.synsets(word2)\n",
    "\n",
    "    max_similarity = 0\n",
    "\n",
    "    for syn1 in synset1:\n",
    "        for syn2 in synset2:\n",
    "            similarity = syn1.path_similarity(syn2)\n",
    "            if similarity and similarity > max_similarity:\n",
    "                max_similarity = similarity\n",
    "\n",
    "    return max_similarity\n",
    "\n",
    "def average_semantic_similarity(word, potential_replacement):\n",
    "    similarities = {w: calculate_path_similarity(word, w) for w in potential_replacement if wordnet.synsets(w)}\n",
    "    \n",
    "    if similarities:\n",
    "        average_similarity = sum(similarities.values()) / len(similarities)\n",
    "        return average_similarity\n",
    "\n",
    "    return 0\n",
    "\n",
    "best_replacement = max(verb_synonyms_of_slip, key=lambda x: average_semantic_similarity(\"slip\", [x]))\n",
    "print(\"Best Replacement:\", best_replacement)\n",
    "\n"
   ]
  },
  {
   "cell_type": "markdown",
   "id": "27d7588c",
   "metadata": {
    "id": "27d7588c"
   },
   "source": []
  },
  {
   "cell_type": "markdown",
   "id": "8e8bef81",
   "metadata": {
    "id": "8e8bef81"
   },
   "source": [
    "f) Describe an alternative way that semantic similarity can be estimated between two words which does not rely on a dictionary such as WordNet. (8 marks)"
   ]
  },
  {
   "cell_type": "markdown",
   "id": "627c81df",
   "metadata": {
    "id": "627c81df"
   },
   "source": []
  }
 ],
 "metadata": {
  "kernelspec": {
   "display_name": "Python 3 (ipykernel)",
   "language": "python",
   "name": "python3"
  },
  "language_info": {
   "codemirror_mode": {
    "name": "ipython",
    "version": 3
   },
   "file_extension": ".py",
   "mimetype": "text/x-python",
   "name": "python",
   "nbconvert_exporter": "python",
   "pygments_lexer": "ipython3",
   "version": "3.9.12"
  },
  "colab": {
   "provenance": []
  }
 },
 "nbformat": 4,
 "nbformat_minor": 5
}
