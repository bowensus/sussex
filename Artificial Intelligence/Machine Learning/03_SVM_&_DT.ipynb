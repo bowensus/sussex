{
  "cells": [
    {
      "cell_type": "markdown",
      "source": [],
      "metadata": {
        "id": "vx43rPcYh4f3"
      },
      "id": "vx43rPcYh4f3"
    },
    {
      "cell_type": "markdown",
      "source": [
        "I adopted a classic dataset from Kaggle, which involves binary classification of pumpkin seeds. I compared the classification results and accuracy among four methods: Support Vector Machine (SVM) with a linear kernel, k-Nearest Neighbors (kNN), Logistic Regression, and Decision Tree. The evaluation of the SVM model utilized simple holdout validation or basic parameter tuning, but the dataset provider had proven that cross-validation yields slightly better results. The final outcomes showed that Random Forest achieved the highest accuracy at 88.2%, followed by SVM at 87.6%, then kNN at 86.8%, with Logistic Regression performing the least satisfactorily at 85.2%."
      ],
      "metadata": {
        "id": "klvi-G2FiAvu"
      },
      "id": "klvi-G2FiAvu"
    },
    {
      "cell_type": "code",
      "execution_count": null,
      "id": "initial_id",
      "metadata": {
        "collapsed": true,
        "ExecuteTime": {
          "end_time": "2024-02-18T20:25:57.157288600Z",
          "start_time": "2024-02-18T20:25:57.077388500Z"
        },
        "id": "initial_id",
        "outputId": "c78377ed-5583-4b3c-8d10-c5eaaf5ecda2"
      },
      "outputs": [
        {
          "name": "stdout",
          "output_type": "stream",
          "text": [
            "[['56276' '888.242' '326.1485' '220.2388' '56831' '267.6805' '0.7376'\n",
            "  '0.9902' '0.7453' '0.8963' '1.4809' '0.8207' 'Çerçevelik']\n",
            " ['76631' '1068.146' '417.1932' '234.2289' '77280' '312.3614' '0.8275'\n",
            "  '0.9916' '0.7151' '0.844' '1.7811' '0.7487' 'Çerçevelik']\n",
            " ['71623' '1082.987' '435.8328' '211.0457' '72663' '301.9822' '0.8749'\n",
            "  '0.9857' '0.74' '0.7674' '2.0651' '0.6929' 'Çerçevelik']\n",
            " ['66458' '992.051' '381.5638' '222.5322' '67118' '290.8899' '0.8123'\n",
            "  '0.9902' '0.7396' '0.8486' '1.7146' '0.7624' 'Çerçevelik']\n",
            " ['66107' '998.146' '383.8883' '220.4545' '67117' '290.1207' '0.8187'\n",
            "  '0.985' '0.6752' '0.8338' '1.7413' '0.7557' 'Çerçevelik']]\n"
          ]
        }
      ],
      "source": [
        "import csv\n",
        "import numpy as np\n",
        "\n",
        "data_list = []\n",
        "\n",
        "with open(\"csv/Pumpkin_Seeds_Dataset.csv\", newline='', encoding=\"utf-8\") as csvfile:\n",
        "    reader = csv.reader(csvfile)\n",
        "\n",
        "    next(reader)\n",
        "    for row in reader:\n",
        "        data_list.append(row)\n",
        "\n",
        "data = np.array(data_list)\n",
        "print(data[:5])"
      ]
    },
    {
      "cell_type": "code",
      "execution_count": null,
      "outputs": [
        {
          "name": "stdout",
          "output_type": "stream",
          "text": [
            "[56276. 76631. 71623. ... 87994. 80011. 84934.]\n",
            "[0, 0, 0, 0, 0] [1, 1, 1, 1, 1]\n",
            "(2500, 12)\n"
          ]
        }
      ],
      "source": [
        "features = data[:, :-1].astype(float)\n",
        "labels = data[:, -1]\n",
        "labels = [0 if label[-1] == 'k' else 1 for label in labels]\n",
        "\n",
        "print(features[:, 0])\n",
        "print(labels[:5], labels[-5:])\n",
        "print(features.shape)"
      ],
      "metadata": {
        "ExecuteTime": {
          "end_time": "2024-02-18T20:26:00.275104Z",
          "start_time": "2024-02-18T20:26:00.258373500Z"
        },
        "id": "655d602da93dfa7c",
        "outputId": "e3c3e4a1-a8a2-4d5c-f3c3-fa359c44fd98"
      },
      "id": "655d602da93dfa7c"
    },
    {
      "cell_type": "code",
      "execution_count": null,
      "outputs": [
        {
          "name": "stdout",
          "output_type": "stream",
          "text": [
            "[[0.09405991 0.02859334 0.01555092 ... 0.88753247 0.16645788 0.75530369]\n",
            " [0.3237096  0.28895964 0.28249196 ... 0.75168831 0.31688129 0.54606219]\n",
            " [0.26720821 0.3104383  0.33714285 ... 0.55272727 0.45918725 0.38390003]\n",
            " ...\n",
            " [0.45190952 0.49471247 0.54644854 ... 0.52025974 0.56827178 0.28799768]\n",
            " [0.36184352 0.45510554 0.53086948 ... 0.42571429 0.65270331 0.21825051]\n",
            " [0.41738591 0.4217985  0.41648892 ... 0.62       0.41328857 0.43475734]]\n"
          ]
        }
      ],
      "source": [
        "from sklearn.preprocessing import MinMaxScaler\n",
        "\n",
        "# normalisation\n",
        "scaler = MinMaxScaler()\n",
        "\n",
        "features = scaler.fit_transform(features)\n",
        "\n",
        "print(features)"
      ],
      "metadata": {
        "ExecuteTime": {
          "end_time": "2024-02-18T20:26:47.278940100Z",
          "start_time": "2024-02-18T20:26:47.236771700Z"
        },
        "id": "3b31f2bc9f0628de",
        "outputId": "deee9bf7-e95b-4489-ad69-38e482568de0"
      },
      "id": "3b31f2bc9f0628de"
    },
    {
      "cell_type": "code",
      "execution_count": null,
      "outputs": [],
      "source": [
        "from sklearn.model_selection import train_test_split\n",
        "\n",
        "all_ids = np.arange(0, data.shape[0])\n",
        "\n",
        "random_seed = 1\n",
        "\n",
        "# training : test = 2000 : 500, real_training : validation = 1600 : 400\n",
        "rem_set_ids, test_set_ids = train_test_split(all_ids, test_size=0.2, train_size=0.8,\n",
        "                                 random_state=random_seed, shuffle=True)\n",
        "\n",
        "train_set_ids, val_set_ids = train_test_split(rem_set_ids, test_size=0.2, train_size=0.8,\n",
        "                                 random_state=random_seed, shuffle=True)\n",
        "\n",
        "training_features = features[train_set_ids, :]\n",
        "training_labels = [labels[i] for i in train_set_ids]\n",
        "\n",
        "test_features = features[test_set_ids, :]\n",
        "test_labels = [labels[i] for i in test_set_ids]\n",
        "\n",
        "val_features = features[val_set_ids, :]\n",
        "val_labels = [labels[i] for i in val_set_ids]"
      ],
      "metadata": {
        "ExecuteTime": {
          "end_time": "2024-02-18T20:26:49.872014900Z",
          "start_time": "2024-02-18T20:26:49.864322100Z"
        },
        "id": "8267c204562accb2"
      },
      "id": "8267c204562accb2"
    },
    {
      "cell_type": "code",
      "execution_count": null,
      "outputs": [
        {
          "data": {
            "text/plain": "<Figure size 640x480 with 1 Axes>",
            "image/png": "[encoded data removed]"
          },
          "metadata": {},
          "output_type": "display_data"
        }
      ],
      "source": [
        "import matplotlib.pyplot as plt\n",
        "\n",
        "def draw_by_features(truple):\n",
        "    x_label = val_features[:, truple[0]]\n",
        "    y_label = val_features[:, truple[1]]\n",
        "\n",
        "    idx_0 = []\n",
        "    idx_1 = []\n",
        "\n",
        "    for i, label in enumerate(val_labels):\n",
        "        if label == 0:\n",
        "            idx_0.append(i)\n",
        "        else:\n",
        "            idx_1.append(i)\n",
        "\n",
        "    plt.scatter(x_label[idx_0], y_label[idx_0], color=\"red\", label=\"Cercevelik\")\n",
        "    plt.scatter(x_label[idx_1], y_label[idx_1], color=\"blue\", label=\"Urgup Sivrisi\")\n",
        "\n",
        "    plt.legend()\n",
        "    plt.title(\"Scatter Plot\")\n",
        "    plt.xlabel(\"Area\")\n",
        "    plt.ylabel(\"Perimeter\")\n",
        "    plt.show()\n",
        "\n",
        "draw_by_features((0, 1))"
      ],
      "metadata": {
        "ExecuteTime": {
          "end_time": "2024-02-18T20:26:53.200124Z",
          "start_time": "2024-02-18T20:26:52.991241100Z"
        },
        "id": "1960fe9406d427a6",
        "outputId": "4bd5d117-ee54-47ac-94d2-aa39d6b60e6a"
      },
      "id": "1960fe9406d427a6"
    },
    {
      "cell_type": "markdown",
      "source": [
        "**SVC**"
      ],
      "metadata": {
        "collapsed": false,
        "id": "91890a31206acd7"
      },
      "id": "91890a31206acd7"
    },
    {
      "cell_type": "code",
      "execution_count": null,
      "outputs": [
        {
          "name": "stdout",
          "output_type": "stream",
          "text": [
            "[(10.0, 0.88), (1.0, 0.8725), (0.1, 0.87)]\n",
            "10.0\n"
          ]
        }
      ],
      "source": [
        "from sklearn.svm import SVC\n",
        "from sklearn.metrics import accuracy_score\n",
        "import warnings\n",
        "\n",
        "svc_c_options = [0.1, 1.0, 10.0]\n",
        "svc_results = []\n",
        "\n",
        "for c in svc_c_options:\n",
        "    model_SVC = SVC(C=c, random_state=random_seed)\n",
        "    with warnings.catch_warnings():\n",
        "        warnings.simplefilter(\"ignore\")\n",
        "        model_SVC.fit(training_features, training_labels)\n",
        "\n",
        "    val_pred_SVC = model_SVC.predict(val_features)\n",
        "    val_acc_SVC = accuracy_score(val_labels, val_pred_SVC)\n",
        "\n",
        "    svc_results.append((c, val_acc_SVC))\n",
        "\n",
        "svc_results_sorted = sorted(svc_results, key=lambda x : x[1], reverse=True)\n",
        "print(svc_results_sorted)\n",
        "best_svc_c = svc_results_sorted[0][0]\n",
        "\n",
        "print(best_svc_c)"
      ],
      "metadata": {
        "ExecuteTime": {
          "end_time": "2024-02-18T20:26:56.173143600Z",
          "start_time": "2024-02-18T20:26:56.016199800Z"
        },
        "id": "c3adf690dc62919",
        "outputId": "c9aa9fe1-073e-407f-bb38-64287b2e7e95"
      },
      "id": "c3adf690dc62919"
    },
    {
      "cell_type": "code",
      "execution_count": null,
      "outputs": [
        {
          "name": "stdout",
          "output_type": "stream",
          "text": [
            "\n",
            " The overall accuracy is: 0.876\n"
          ]
        }
      ],
      "source": [
        "model_SVC = SVC(C=best_svc_c, random_state=random_seed)\n",
        "model_SVC.fit(training_features, training_labels)\n",
        "\n",
        "test_pred_SVC = model_SVC.predict(test_features)\n",
        "test_acc_SVC = accuracy_score(test_labels, test_pred_SVC)\n",
        "\n",
        "print(\"\\n The overall accuracy is: \" + str(test_acc_SVC))"
      ],
      "metadata": {
        "ExecuteTime": {
          "end_time": "2024-02-18T20:26:58.414718600Z",
          "start_time": "2024-02-18T20:26:58.368147700Z"
        },
        "id": "c248d8a8dda124e5",
        "outputId": "d55292be-7aec-4239-f169-0ba6760e1d08"
      },
      "id": "c248d8a8dda124e5"
    },
    {
      "cell_type": "markdown",
      "source": [
        "**Knn**"
      ],
      "metadata": {
        "collapsed": false,
        "id": "71c54ebadf8ffcc"
      },
      "id": "71c54ebadf8ffcc"
    },
    {
      "cell_type": "code",
      "execution_count": null,
      "outputs": [
        {
          "name": "stdout",
          "output_type": "stream",
          "text": [
            "[(1, 0.8225), (2, 0.8425), (3, 0.8525), (4, 0.8625), (5, 0.8575), (6, 0.855), (7, 0.8525), (8, 0.8625), (9, 0.85), (10, 0.86), (11, 0.8575), (12, 0.8625), (13, 0.8625), (14, 0.8725), (15, 0.8725), (16, 0.875), (17, 0.87), (18, 0.87), (19, 0.8675), (20, 0.8625)]\n",
            "\n",
            " 16\n"
          ]
        }
      ],
      "source": [
        "from sklearn.neighbors import KNeighborsClassifier\n",
        "from sklearn.metrics import accuracy_score\n",
        "\n",
        "knn_results = []\n",
        "for n in range(1, 21):\n",
        "    model_KNN = KNeighborsClassifier(n_neighbors=n)\n",
        "    model_KNN.fit(training_features, training_labels)\n",
        "    val_pred_KNN = model_KNN.predict(val_features)\n",
        "    val_acc_KNN = accuracy_score(val_labels, val_pred_KNN)\n",
        "    knn_results.append((n, val_acc_KNN))\n",
        "\n",
        "print(knn_results)\n",
        "knn_results_sorted = sorted(knn_results, key=lambda x : x[1], reverse=True)\n",
        "best_n = knn_results_sorted[0][0]\n",
        "print('\\n', best_n)"
      ],
      "metadata": {
        "ExecuteTime": {
          "end_time": "2024-02-18T20:30:50.645860Z",
          "start_time": "2024-02-18T20:30:50.295813300Z"
        },
        "id": "a724d9cafd3d0144",
        "outputId": "0b3ea686-096c-4497-c572-d69e6f5c3e89"
      },
      "id": "a724d9cafd3d0144"
    },
    {
      "cell_type": "code",
      "execution_count": null,
      "outputs": [
        {
          "name": "stdout",
          "output_type": "stream",
          "text": [
            "\n",
            " The overall accuracy is: 0.868\n"
          ]
        }
      ],
      "source": [
        "model_KNN = KNeighborsClassifier(n_neighbors=best_n)\n",
        "model_KNN.fit(training_features, training_labels)\n",
        "test_pred_KNN = model_KNN.predict(test_features)\n",
        "test_acc_KNN = accuracy_score(test_labels, test_pred_KNN)\n",
        "print(\"\\n The overall accuracy is:\", test_acc_KNN)"
      ],
      "metadata": {
        "ExecuteTime": {
          "end_time": "2024-02-18T20:30:57.558403500Z",
          "start_time": "2024-02-18T20:30:57.518006200Z"
        },
        "id": "5e779c74648287ef",
        "outputId": "9c3fe7d1-70c7-4129-980b-f87822786841"
      },
      "id": "5e779c74648287ef"
    },
    {
      "cell_type": "markdown",
      "source": [
        "**Logistic Regression**"
      ],
      "metadata": {
        "collapsed": false,
        "id": "fe50b682f93c613"
      },
      "id": "fe50b682f93c613"
    },
    {
      "cell_type": "code",
      "execution_count": null,
      "outputs": [
        {
          "name": "stdout",
          "output_type": "stream",
          "text": [
            "[(10.0, 0.8625), (1.0, 0.86), (0.1, 0.855)]\n",
            "\n",
            " 10.0\n"
          ]
        }
      ],
      "source": [
        "from sklearn.linear_model import LogisticRegression\n",
        "\n",
        "lr_c_options = [0.1, 1.0, 10.0]\n",
        "lr_results = []\n",
        "\n",
        "for c in lr_c_options:\n",
        "    model_LR = LogisticRegression(C=c, random_state=random_seed)\n",
        "    model_LR.fit(training_features, training_labels)\n",
        "    val_pred_LR = model_LR.predict(val_features)\n",
        "    val_acc_LR = accuracy_score(val_labels, val_pred_LR)\n",
        "    lr_results.append((c, val_acc_LR))\n",
        "\n",
        "lr_results_sorted = sorted(lr_results, key=lambda x: x[1], reverse=True)\n",
        "\n",
        "print(lr_results_sorted)\n",
        "best_lr_c = lr_results_sorted[0][0]\n",
        "print('\\n', best_lr_c)"
      ],
      "metadata": {
        "ExecuteTime": {
          "end_time": "2024-02-18T20:31:22.089724100Z",
          "start_time": "2024-02-18T20:31:22.046532800Z"
        },
        "id": "bb4211e9c04375ef",
        "outputId": "180e1331-63cc-4fa0-ea22-42f875fd0d5d"
      },
      "id": "bb4211e9c04375ef"
    },
    {
      "cell_type": "code",
      "execution_count": null,
      "outputs": [
        {
          "name": "stdout",
          "output_type": "stream",
          "text": [
            "\n",
            " The overall accuracy for Logistic Regression is: 0.852\n"
          ]
        }
      ],
      "source": [
        "model_LR = LogisticRegression(C=best_lr_c, random_state=random_seed)\n",
        "model_LR.fit(training_features, training_labels)\n",
        "test_pred_LR = model_LR.predict(test_features)\n",
        "test_acc_LR = accuracy_score(test_labels, test_pred_LR)\n",
        "\n",
        "print(\"\\n The overall accuracy for Logistic Regression is:\", test_acc_LR)"
      ],
      "metadata": {
        "ExecuteTime": {
          "end_time": "2024-02-18T20:31:25.753938800Z",
          "start_time": "2024-02-18T20:31:25.733225800Z"
        },
        "id": "f3e186d0e302ef3d",
        "outputId": "e5e8c463-74d6-48ed-e47f-03e083bc546b"
      },
      "id": "f3e186d0e302ef3d"
    },
    {
      "cell_type": "markdown",
      "source": [
        "**Decision Tree**"
      ],
      "metadata": {
        "collapsed": false,
        "id": "56274346bd3eee5e"
      },
      "id": "56274346bd3eee5e"
    },
    {
      "cell_type": "code",
      "execution_count": null,
      "outputs": [
        {
          "name": "stdout",
          "output_type": "stream",
          "text": [
            "[(100, 0.88), (10, 0.865), (1, 0.585)]\n",
            "100\n"
          ]
        }
      ],
      "source": [
        "from sklearn.ensemble import BaggingClassifier\n",
        "\n",
        "ntrees_options = [1, 10, 100]\n",
        "ntrees_results = []\n",
        "features_number = int(training_features.shape[1]**0.5)\n",
        "\n",
        "for nt in ntrees_options:\n",
        "    model_DT = BaggingClassifier(n_estimators=nt, max_features=features_number, random_state=random_seed)\n",
        "    model_DT.fit(training_features, training_labels)\n",
        "    val_pred_DT = model_DT.predict(val_features)\n",
        "    val_acc_DT = accuracy_score(val_labels, val_pred_DT)\n",
        "    ntrees_results.append((nt, val_acc_DT))\n",
        "\n",
        "ntrees_results_sorted = sorted(ntrees_results, key=lambda x:x[1], reverse=True)\n",
        "best_ntrees = ntrees_results_sorted[0][0]\n",
        "\n",
        "print(ntrees_results_sorted)\n",
        "print(best_ntrees)"
      ],
      "metadata": {
        "ExecuteTime": {
          "end_time": "2024-02-18T22:44:38.620377600Z",
          "start_time": "2024-02-18T22:44:38.221731600Z"
        },
        "id": "47300d7b09e2d839",
        "outputId": "9f0350be-8fc8-4af5-ae68-e7201192cc2d"
      },
      "id": "47300d7b09e2d839"
    },
    {
      "cell_type": "code",
      "execution_count": null,
      "outputs": [
        {
          "name": "stdout",
          "output_type": "stream",
          "text": [
            "\n",
            " The overall accuracy is:  0.882\n"
          ]
        }
      ],
      "source": [
        "model_DT = BaggingClassifier(n_estimators=best_ntrees, max_features=features_number, random_state=random_seed)\n",
        "model_DT.fit(training_features, training_labels)\n",
        "\n",
        "test_pred_DT = model_DT.predict(test_features)\n",
        "test_acc_DT = accuracy_score(test_labels, test_pred_DT)\n",
        "print(\"\\n The overall accuracy is: \", str(test_acc_DT))"
      ],
      "metadata": {
        "ExecuteTime": {
          "end_time": "2024-02-18T22:44:42.983980600Z",
          "start_time": "2024-02-18T22:44:42.613890600Z"
        },
        "id": "cabaa96e768e89c",
        "outputId": "28295add-9759-44f8-a225-adf134439b1e"
      },
      "id": "cabaa96e768e89c"
    }
  ],
  "metadata": {
    "kernelspec": {
      "display_name": "Python 3",
      "language": "python",
      "name": "python3"
    },
    "language_info": {
      "codemirror_mode": {
        "name": "ipython",
        "version": 2
      },
      "file_extension": ".py",
      "mimetype": "text/x-python",
      "name": "python",
      "nbconvert_exporter": "python",
      "pygments_lexer": "ipython2",
      "version": "2.7.6"
    },
    "colab": {
      "provenance": []
    }
  },
  "nbformat": 4,
  "nbformat_minor": 5
}