{
  "cells": [
    {
      "cell_type": "code",
      "execution_count": 6,
      "metadata": {
        "colab": {
          "base_uri": "https://localhost:8080/"
        },
        "id": "owOOWXCUnj5K",
        "outputId": "e2332ce6-1980-447b-cec0-b718b9453c8e"
      },
      "outputs": [
        {
          "output_type": "stream",
          "name": "stdout",
          "text": [
            "Mounted at /content/drive\n"
          ]
        }
      ],
      "source": [
        "from google.colab import drive\n",
        "import pandas as pd\n",
        "import csv, os\n",
        "\n",
        "drive.mount('/content/drive')\n",
        "\n",
        "#path = '/content/drive/My Drive/AdvNLP'\n",
        "path = \"/content/drive/My Drive/Colab Notebooks/\""
      ]
    },
    {
      "cell_type": "code",
      "execution_count": 7,
      "metadata": {
        "id": "qmEvd2VHnQQB"
      },
      "outputs": [],
      "source": [
        "from gensim.models import KeyedVectors\n",
        "\n",
        "filename = os.path.join(path, \"GoogleNews-vectors-negative300.bin\")\n",
        "mymodel = KeyedVectors.load_word2vec_format(filename, binary=True)"
      ]
    },
    {
      "cell_type": "code",
      "execution_count": 8,
      "metadata": {
        "colab": {
          "base_uri": "https://localhost:8080/"
        },
        "id": "cvHXnBqroF_A",
        "outputId": "9f8432f0-2722-41ac-c5ad-2e37695e512b"
      },
      "outputs": [
        {
          "output_type": "stream",
          "name": "stdout",
          "text": [
            "0.2883053\n",
            "\n",
            "[('woman', 0.7664012908935547), ('boy', 0.6824871301651001), ('teenager', 0.6586930155754089), ('teenage_girl', 0.6147903203964233), ('girl', 0.5921714305877686), ('suspected_purse_snatcher', 0.571636438369751), ('robber', 0.5585119128227234), ('Robbery_suspect', 0.5584409832954407), ('teen_ager', 0.5549196600914001), ('men', 0.5489763021469116)]\n"
          ]
        }
      ],
      "source": [
        "print(mymodel.similarity(\"man\", \"women\"))\n",
        "print()\n",
        "print(mymodel.most_similar(positive=[\"man\"]))"
      ]
    },
    {
      "cell_type": "code",
      "execution_count": 9,
      "metadata": {
        "colab": {
          "base_uri": "https://localhost:8080/"
        },
        "id": "-NjCRcb62okB",
        "outputId": "ee15078e-c8c5-429a-e62e-5cbc9dad33a3"
      },
      "outputs": [
        {
          "output_type": "execute_result",
          "data": {
            "text/plain": [
              "array([ 0.32617188,  0.13085938,  0.03466797, -0.08300781,  0.08984375,\n",
              "       -0.04125977, -0.19824219,  0.00689697,  0.14355469,  0.0019455 ,\n",
              "        0.02880859, -0.25      , -0.08398438, -0.15136719, -0.10205078,\n",
              "        0.04077148, -0.09765625,  0.05932617,  0.02978516, -0.10058594,\n",
              "       -0.13085938,  0.001297  ,  0.02612305, -0.27148438,  0.06396484,\n",
              "       -0.19140625, -0.078125  ,  0.25976562,  0.375     , -0.04541016,\n",
              "        0.16210938,  0.13671875, -0.06396484, -0.02062988, -0.09667969,\n",
              "        0.25390625,  0.24804688, -0.12695312,  0.07177734,  0.3203125 ,\n",
              "        0.03149414, -0.03857422,  0.21191406, -0.00811768,  0.22265625,\n",
              "       -0.13476562, -0.07617188,  0.01049805, -0.05175781,  0.03808594,\n",
              "       -0.13378906,  0.125     ,  0.0559082 , -0.18261719,  0.08154297,\n",
              "       -0.08447266, -0.07763672, -0.04345703,  0.08105469, -0.01092529,\n",
              "        0.17480469,  0.30664062, -0.04321289, -0.01416016,  0.09082031,\n",
              "       -0.00927734, -0.03442383, -0.11523438,  0.12451172, -0.0246582 ,\n",
              "        0.08544922,  0.14355469, -0.27734375,  0.03662109, -0.11035156,\n",
              "        0.13085938, -0.01721191, -0.08056641, -0.00708008, -0.02954102,\n",
              "        0.30078125, -0.09033203,  0.03149414, -0.18652344, -0.11181641,\n",
              "        0.10253906, -0.25976562, -0.02209473,  0.16796875, -0.05322266,\n",
              "       -0.14550781, -0.01049805, -0.03039551, -0.03857422,  0.11523438,\n",
              "       -0.0062561 , -0.13964844,  0.08007812,  0.06103516, -0.15332031,\n",
              "       -0.11132812, -0.14160156,  0.19824219, -0.06933594,  0.29296875,\n",
              "       -0.16015625,  0.20898438,  0.00041771,  0.01831055, -0.20214844,\n",
              "        0.04760742,  0.05810547, -0.0123291 , -0.01989746, -0.00364685,\n",
              "       -0.0135498 , -0.08251953, -0.03149414,  0.00717163,  0.20117188,\n",
              "        0.08300781, -0.0480957 , -0.26367188, -0.09667969, -0.22558594,\n",
              "       -0.09667969,  0.06494141, -0.02502441,  0.08496094,  0.03198242,\n",
              "       -0.07568359, -0.25390625, -0.11669922, -0.01446533, -0.16015625,\n",
              "       -0.00701904, -0.05712891,  0.02807617, -0.09179688,  0.25195312,\n",
              "        0.24121094,  0.06640625,  0.12988281,  0.17089844, -0.13671875,\n",
              "        0.1875    , -0.10009766, -0.04199219, -0.12011719,  0.00524902,\n",
              "        0.15625   , -0.203125  , -0.07128906, -0.06103516,  0.01635742,\n",
              "        0.18261719,  0.03588867, -0.04248047,  0.16796875, -0.15039062,\n",
              "       -0.16992188,  0.01831055,  0.27734375, -0.01269531, -0.0390625 ,\n",
              "       -0.15429688,  0.18457031, -0.07910156,  0.09033203, -0.02709961,\n",
              "        0.08251953,  0.06738281, -0.16113281, -0.19628906, -0.15234375,\n",
              "       -0.04711914,  0.04760742,  0.05908203, -0.16894531, -0.14941406,\n",
              "        0.12988281,  0.04321289,  0.02624512, -0.1796875 , -0.19628906,\n",
              "        0.06445312,  0.08935547,  0.1640625 , -0.03808594, -0.09814453,\n",
              "       -0.01483154,  0.1875    ,  0.12792969,  0.22753906,  0.01818848,\n",
              "       -0.07958984, -0.11376953, -0.06933594, -0.15527344, -0.08105469,\n",
              "       -0.09277344, -0.11328125, -0.15136719, -0.08007812, -0.05126953,\n",
              "       -0.15332031,  0.11669922,  0.06835938,  0.0324707 , -0.33984375,\n",
              "       -0.08154297, -0.08349609,  0.04003906,  0.04907227, -0.24121094,\n",
              "       -0.13476562, -0.05932617,  0.12158203, -0.34179688,  0.16503906,\n",
              "        0.06176758, -0.18164062,  0.20117188, -0.07714844,  0.1640625 ,\n",
              "        0.00402832,  0.30273438, -0.10009766, -0.13671875, -0.05957031,\n",
              "        0.0625    , -0.21289062, -0.06542969,  0.1796875 , -0.07763672,\n",
              "       -0.01928711, -0.15039062, -0.00106049,  0.03417969,  0.03344727,\n",
              "        0.19335938,  0.01965332, -0.19921875, -0.10644531,  0.01525879,\n",
              "        0.00927734,  0.01416016, -0.02392578,  0.05883789,  0.02368164,\n",
              "        0.125     ,  0.04760742, -0.05566406,  0.11572266,  0.14746094,\n",
              "        0.1015625 , -0.07128906, -0.07714844, -0.12597656,  0.0291748 ,\n",
              "        0.09521484, -0.12402344, -0.109375  , -0.12890625,  0.16308594,\n",
              "        0.28320312, -0.03149414,  0.12304688, -0.23242188, -0.09375   ,\n",
              "       -0.12988281,  0.0135498 , -0.03881836, -0.08251953,  0.00897217,\n",
              "        0.16308594,  0.10546875, -0.13867188, -0.16503906, -0.03857422,\n",
              "        0.10839844, -0.10498047,  0.06396484,  0.38867188, -0.05981445,\n",
              "       -0.0612793 , -0.10449219, -0.16796875,  0.07177734,  0.13964844,\n",
              "        0.15527344, -0.03125   , -0.20214844, -0.12988281, -0.10058594,\n",
              "       -0.06396484, -0.08349609, -0.30273438, -0.08007812,  0.02099609],\n",
              "      dtype=float32)"
            ]
          },
          "metadata": {},
          "execution_count": 9
        }
      ],
      "source": [
        "mymodel[\"man\"]"
      ]
    },
    {
      "cell_type": "code",
      "execution_count": 10,
      "metadata": {
        "colab": {
          "base_uri": "https://localhost:8080/"
        },
        "id": "-NKgJD8roF1I",
        "outputId": "d32a69ef-5b6d-4d63-a3e6-989e2221a942"
      },
      "outputs": [
        {
          "output_type": "execute_result",
          "data": {
            "text/plain": [
              "[('Beijing', 0.6737731099128723),\n",
              " ('Shanghai', 0.6466286778450012),\n",
              " ('Beijng', 0.5856549739837646),\n",
              " ('Hong_Kong', 0.5709934830665588),\n",
              " ('Chinese', 0.5639771819114685),\n",
              " ('Guangdong', 0.5119545459747314),\n",
              " ('Shenzhen', 0.5102902054786682),\n",
              " ('Yanqi', 0.5076326727867126),\n",
              " ('Nanjing', 0.505686342716217),\n",
              " ('Guangzhou', 0.5043154954910278)]"
            ]
          },
          "metadata": {},
          "execution_count": 10
        }
      ],
      "source": [
        "mymodel.most_similar(positive=[\"China\", \"London\"], negative=[\"England\"])"
      ]
    },
    {
      "cell_type": "code",
      "execution_count": 11,
      "metadata": {
        "colab": {
          "base_uri": "https://localhost:8080/"
        },
        "id": "QmwH1e06oFym",
        "outputId": "7d979aee-5778-4b4a-deb7-c82344f5a887"
      },
      "outputs": [
        {
          "output_type": "execute_result",
          "data": {
            "text/plain": [
              "[('king', 0.6958590149879456),\n",
              " ('kings', 0.5950952768325806),\n",
              " ('queens', 0.583850085735321),\n",
              " ('monarch', 0.5398427844047546),\n",
              " ('prince', 0.5223615169525146),\n",
              " ('princess', 0.5175285935401917),\n",
              " ('princes', 0.4984463155269623),\n",
              " ('royal', 0.49245932698249817),\n",
              " ('NYC_anglophiles_aflutter', 0.48598507046699524),\n",
              " ('Eugene_Ionesco_absurdist_comedy', 0.4784241020679474)]"
            ]
          },
          "metadata": {},
          "execution_count": 11
        }
      ],
      "source": [
        "mymodel.most_similar(positive=[\"man\", \"queen\"], negative=[\"woman\"])"
      ]
    },
    {
      "cell_type": "code",
      "execution_count": 12,
      "metadata": {
        "colab": {
          "base_uri": "https://localhost:8080/"
        },
        "id": "ajxjAz7AoFrJ",
        "outputId": "0a63853a-8f8e-4ec3-ef08-5f79589bb5f4"
      },
      "outputs": [
        {
          "output_type": "stream",
          "name": "stdout",
          "text": [
            "{'gram3-comparative': [['bad', 'worse'], ['big', 'bigger'], ['bright', 'brighter'], ['cheap', 'cheaper'], ['cold', 'colder'], ['cool', 'cooler'], ['deep', 'deeper'], ['easy', 'easier'], ['fast', 'faster'], ['good', 'better'], ['great', 'greater'], ['hard', 'harder'], ['heavy', 'heavier'], ['high', 'higher'], ['hot', 'hotter'], ['large', 'larger'], ['long', 'longer'], ['loud', 'louder'], ['low', 'lower'], ['new', 'newer'], ['old', 'older'], ['quick', 'quicker'], ['safe', 'safer'], ['sharp', 'sharper'], ['short', 'shorter'], ['simple', 'simpler'], ['slow', 'slower'], ['small', 'smaller'], ['smart', 'smarter'], ['strong', 'stronger'], ['tall', 'taller'], ['tight', 'tighter'], ['tough', 'tougher'], ['warm', 'warmer'], ['weak', 'weaker'], ['wide', 'wider'], ['young', 'younger']], 'gram8-plural': [['banana', 'bananas'], ['bird', 'birds'], ['bottle', 'bottles'], ['building', 'buildings'], ['car', 'cars'], ['cat', 'cats'], ['child', 'children'], ['cloud', 'clouds'], ['color', 'colors'], ['computer', 'computers'], ['cow', 'cows'], ['dog', 'dogs'], ['dollar', 'dollars'], ['donkey', 'donkeys'], ['dream', 'dreams'], ['eagle', 'eagles'], ['elephant', 'elephants'], ['eye', 'eyes'], ['finger', 'fingers'], ['goat', 'goats'], ['hand', 'hands'], ['horse', 'horses'], ['lion', 'lions'], ['machine', 'machines'], ['mango', 'mangoes'], ['man', 'men'], ['melon', 'melons'], ['monkey', 'monkeys'], ['mouse', 'mice'], ['onion', 'onions'], ['pear', 'pears'], ['pig', 'pigs'], ['pineapple', 'pineapples'], ['rat', 'rats'], ['road', 'roads'], ['snake', 'snakes'], ['woman', 'women']], 'capital-common-countries': [['Athens', 'Greece'], ['Baghdad', 'Iraq'], ['Bangkok', 'Thailand'], ['Beijing', 'China'], ['Berlin', 'Germany'], ['Bern', 'Switzerland'], ['Cairo', 'Egypt'], ['Canberra', 'Australia'], ['Hanoi', 'Vietnam'], ['Havana', 'Cuba'], ['Helsinki', 'Finland'], ['Islamabad', 'Pakistan'], ['Kabul', 'Afghanistan'], ['London', 'England'], ['Madrid', 'Spain'], ['Moscow', 'Russia'], ['Oslo', 'Norway'], ['Ottawa', 'Canada'], ['Paris', 'France'], ['Rome', 'Italy'], ['Stockholm', 'Sweden'], ['Tehran', 'Iran'], ['Tokyo', 'Japan']], 'city-in-state': [['Chicago', 'Illinois'], ['Houston', 'Texas'], ['Philadelphia', 'Pennsylvania'], ['Phoenix', 'Arizona'], ['Dallas', 'Texas'], ['Jacksonville', 'Florida'], ['Indianapolis', 'Indiana'], ['Austin', 'Texas'], ['Detroit', 'Michigan'], ['Memphis', 'Tennessee'], ['Boston', 'Massachusetts'], ['Seattle', 'Washington'], ['Denver', 'Colorado'], ['Baltimore', 'Maryland'], ['Nashville', 'Tennessee'], ['Louisville', 'Kentucky'], ['Milwaukee', 'Wisconsin'], ['Portland', 'Oregon'], ['Tucson', 'Arizona'], ['Fresno', 'California'], ['Sacramento', 'California'], ['Mesa', 'Arizona'], ['Atlanta', 'Georgia'], ['Omaha', 'Nebraska'], ['Miami', 'Florida'], ['Tulsa', 'Oklahoma'], ['Oakland', 'California'], ['Cleveland', 'Ohio'], ['Minneapolis', 'Minnesota'], ['Wichita', 'Kansas'], ['Arlington', 'Texas'], ['Bakersfield', 'California'], ['Tampa', 'Florida'], ['Anaheim', 'California'], ['Honolulu', 'Hawaii'], ['Pittsburgh', 'Pennsylvania'], ['Lexington', 'Kentucky'], ['Stockton', 'California'], ['Cincinnati', 'Ohio'], ['Anchorage', 'Alaska'], ['Toledo', 'Ohio'], ['Plano', 'Texas'], ['Henderson', 'Nevada'], ['Orlando', 'Florida'], ['Laredo', 'Texas'], ['Chandler', 'Arizona'], ['Madison', 'Wisconsin'], ['Lubbock', 'Texas'], ['Garland', 'Texas'], ['Glendale', 'Arizona'], ['Hialeah', 'Florida'], ['Reno', 'Nevada'], ['Scottsdale', 'Arizona'], ['Irving', 'Texas'], ['Fremont', 'California'], ['Irvine', 'California'], ['Spokane', 'Washington'], ['Modesto', 'California'], ['Shreveport', 'Louisiana'], ['Tacoma', 'Washington'], ['Oxnard', 'California'], ['Fontana', 'California'], ['Akron', 'Ohio'], ['Amarillo', 'Texas'], ['Glendale', 'California'], ['Tallahassee', 'Florida'], ['Huntsville', 'Alabama'], ['Worcester', 'Massachusetts']], 'family': [['boy', 'girl'], ['brother', 'sister'], ['brothers', 'sisters'], ['dad', 'mom'], ['father', 'mother'], ['grandfather', 'grandmother'], ['grandpa', 'grandma'], ['grandson', 'granddaughter'], ['groom', 'bride'], ['he', 'she'], ['his', 'her'], ['husband', 'wife'], ['king', 'queen'], ['man', 'woman'], ['nephew', 'niece'], ['policeman', 'policewoman'], ['prince', 'princess'], ['son', 'daughter'], ['sons', 'daughters'], ['stepbrother', 'stepsister'], ['stepfather', 'stepmother'], ['stepson', 'stepdaughter'], ['uncle', 'aunt']], 'gram2-opposite': [['acceptable', 'unacceptable'], ['aware', 'unaware'], ['certain', 'uncertain'], ['clear', 'unclear'], ['comfortable', 'uncomfortable'], ['competitive', 'uncompetitive'], ['consistent', 'inconsistent'], ['convincing', 'unconvincing'], ['convenient', 'inconvenient'], ['decided', 'undecided'], ['efficient', 'inefficient'], ['ethical', 'unethical'], ['fortunate', 'unfortunate'], ['honest', 'dishonest'], ['impressive', 'unimpressive'], ['informative', 'uninformative'], ['informed', 'uninformed'], ['known', 'unknown'], ['likely', 'unlikely'], ['logical', 'illogical'], ['pleasant', 'unpleasant'], ['possible', 'impossible'], ['possibly', 'impossibly'], ['productive', 'unproductive'], ['rational', 'irrational'], ['reasonable', 'unreasonable'], ['responsible', 'irresponsible'], ['sure', 'unsure'], ['tasteful', 'distasteful']], 'currency': [['Algeria', 'dinar'], ['Angola', 'kwanza'], ['Argentina', 'peso'], ['Armenia', 'dram'], ['Brazil', 'real'], ['Bulgaria', 'lev'], ['Cambodia', 'riel'], ['Canada', 'dollar'], ['Croatia', 'kuna'], ['Denmark', 'krone'], ['Europe', 'euro'], ['Hungary', 'forint'], ['India', 'rupee'], ['Iran', 'rial'], ['Japan', 'yen'], ['Korea', 'won'], ['Latvia', 'lats'], ['Lithuania', 'litas'], ['Macedonia', 'denar'], ['Malaysia', 'ringgit'], ['Mexico', 'peso'], ['Nigeria', 'naira'], ['Poland', 'zloty'], ['Romania', 'leu'], ['Russia', 'ruble'], ['Sweden', 'krona'], ['Thailand', 'baht'], ['Ukraine', 'hryvnia'], ['USA', 'dollar'], ['Vietnam', 'dong']], 'gram4-superlative': [['bad', 'worst'], ['big', 'biggest'], ['bright', 'brightest'], ['cold', 'coldest'], ['cool', 'coolest'], ['dark', 'darkest'], ['easy', 'easiest'], ['fast', 'fastest'], ['good', 'best'], ['great', 'greatest'], ['high', 'highest'], ['hot', 'hottest'], ['large', 'largest'], ['long', 'longest'], ['low', 'lowest'], ['lucky', 'luckiest'], ['old', 'oldest'], ['quick', 'quickest'], ['sharp', 'sharpest'], ['simple', 'simplest'], ['short', 'shortest'], ['slow', 'slowest'], ['small', 'smallest'], ['smart', 'smartest'], ['strange', 'strangest'], ['strong', 'strongest'], ['sweet', 'sweetest'], ['tall', 'tallest'], ['tasty', 'tastiest'], ['warm', 'warmest'], ['weak', 'weakest'], ['weird', 'weirdest'], ['wide', 'widest'], ['young', 'youngest']], 'gram6-nationality-adjective': [['Albania', 'Albanian'], ['Argentina', 'Argentinean'], ['Australia', 'Australian'], ['Austria', 'Austrian'], ['Belarus', 'Belorussian'], ['Brazil', 'Brazilian'], ['Bulgaria', 'Bulgarian'], ['Cambodia', 'Cambodian'], ['Chile', 'Chilean'], ['China', 'Chinese'], ['Colombia', 'Colombian'], ['Croatia', 'Croatian'], ['Denmark', 'Danish'], ['Egypt', 'Egyptian'], ['England', 'English'], ['France', 'French'], ['Germany', 'German'], ['Greece', 'Greek'], ['Iceland', 'Icelandic'], ['India', 'Indian'], ['Ireland', 'Irish'], ['Israel', 'Israeli'], ['Italy', 'Italian'], ['Japan', 'Japanese'], ['Korea', 'Korean'], ['Macedonia', 'Macedonian'], ['Malta', 'Maltese'], ['Mexico', 'Mexican'], ['Moldova', 'Moldovan'], ['Netherlands', 'Dutch'], ['Norway', 'Norwegian'], ['Peru', 'Peruvian'], ['Poland', 'Polish'], ['Portugal', 'Portuguese'], ['Russia', 'Russian'], ['Slovakia', 'Slovakian'], ['Spain', 'Spanish'], ['Sweden', 'Swedish'], ['Switzerland', 'Swiss'], ['Thailand', 'Thai'], ['Ukraine', 'Ukrainian']], 'gram7-past-tense': [['dancing', 'danced'], ['decreasing', 'decreased'], ['describing', 'described'], ['enhancing', 'enhanced'], ['falling', 'fell'], ['feeding', 'fed'], ['flying', 'flew'], ['generating', 'generated'], ['going', 'went'], ['hiding', 'hid'], ['hitting', 'hit'], ['implementing', 'implemented'], ['increasing', 'increased'], ['jumping', 'jumped'], ['knowing', 'knew'], ['listening', 'listened'], ['looking', 'looked'], ['moving', 'moved'], ['paying', 'paid'], ['playing', 'played'], ['predicting', 'predicted'], ['reading', 'read'], ['running', 'ran'], ['saying', 'said'], ['screaming', 'screamed'], ['seeing', 'saw'], ['selling', 'sold'], ['shrinking', 'shrank'], ['singing', 'sang'], ['sitting', 'sat'], ['sleeping', 'slept'], ['slowing', 'slowed'], ['spending', 'spent'], ['striking', 'struck'], ['swimming', 'swam'], ['taking', 'took'], ['thinking', 'thought'], ['vanishing', 'vanished'], ['walking', 'walked'], ['writing', 'wrote']], 'gram5-present-participle': [['code', 'coding'], ['dance', 'dancing'], ['debug', 'debugging'], ['decrease', 'decreasing'], ['describe', 'describing'], ['discover', 'discovering'], ['enhance', 'enhancing'], ['fly', 'flying'], ['generate', 'generating'], ['go', 'going'], ['implement', 'implementing'], ['increase', 'increasing'], ['invent', 'inventing'], ['jump', 'jumping'], ['listen', 'listening'], ['look', 'looking'], ['move', 'moving'], ['play', 'playing'], ['predict', 'predicting'], ['read', 'reading'], ['run', 'running'], ['say', 'saying'], ['scream', 'screaming'], ['see', 'seeing'], ['shuffle', 'shuffling'], ['sing', 'singing'], ['sit', 'sitting'], ['slow', 'slowing'], ['swim', 'swimming'], ['think', 'thinking'], ['vanish', 'vanishing'], ['walk', 'walking'], ['write', 'writing']], 'capital-world': [['Abuja', 'Nigeria'], ['Accra', 'Ghana'], ['Algiers', 'Algeria'], ['Amman', 'Jordan'], ['Ankara', 'Turkey'], ['Antananarivo', 'Madagascar'], ['Apia', 'Samoa'], ['Ashgabat', 'Turkmenistan'], ['Asmara', 'Eritrea'], ['Astana', 'Kazakhstan'], ['Athens', 'Greece'], ['Baghdad', 'Iraq'], ['Baku', 'Azerbaijan'], ['Bamako', 'Mali'], ['Bangkok', 'Thailand'], ['Banjul', 'Gambia'], ['Beijing', 'China'], ['Beirut', 'Lebanon'], ['Belgrade', 'Serbia'], ['Belmopan', 'Belize'], ['Berlin', 'Germany'], ['Bern', 'Switzerland'], ['Bishkek', 'Kyrgyzstan'], ['Bratislava', 'Slovakia'], ['Brussels', 'Belgium'], ['Bucharest', 'Romania'], ['Budapest', 'Hungary'], ['Bujumbura', 'Burundi'], ['Cairo', 'Egypt'], ['Canberra', 'Australia'], ['Caracas', 'Venezuela'], ['Chisinau', 'Moldova'], ['Conakry', 'Guinea'], ['Copenhagen', 'Denmark'], ['Dakar', 'Senegal'], ['Damascus', 'Syria'], ['Dhaka', 'Bangladesh'], ['Doha', 'Qatar'], ['Dublin', 'Ireland'], ['Dushanbe', 'Tajikistan'], ['Funafuti', 'Tuvalu'], ['Gaborone', 'Botswana'], ['Georgetown', 'Guyana'], ['Hanoi', 'Vietnam'], ['Harare', 'Zimbabwe'], ['Havana', 'Cuba'], ['Helsinki', 'Finland'], ['Islamabad', 'Pakistan'], ['Jakarta', 'Indonesia'], ['Kabul', 'Afghanistan'], ['Kampala', 'Uganda'], ['Kathmandu', 'Nepal'], ['Khartoum', 'Sudan'], ['Kiev', 'Ukraine'], ['Kigali', 'Rwanda'], ['Kingston', 'Jamaica'], ['Libreville', 'Gabon'], ['Lilongwe', 'Malawi'], ['Lima', 'Peru'], ['Lisbon', 'Portugal'], ['Ljubljana', 'Slovenia'], ['London', 'England'], ['Luanda', 'Angola'], ['Lusaka', 'Zambia'], ['Madrid', 'Spain'], ['Managua', 'Nicaragua'], ['Manama', 'Bahrain'], ['Manila', 'Philippines'], ['Maputo', 'Mozambique'], ['Minsk', 'Belarus'], ['Mogadishu', 'Somalia'], ['Monrovia', 'Liberia'], ['Montevideo', 'Uruguay'], ['Moscow', 'Russia'], ['Muscat', 'Oman'], ['Nairobi', 'Kenya'], ['Nassau', 'Bahamas'], ['Niamey', 'Niger'], ['Nicosia', 'Cyprus'], ['Nouakchott', 'Mauritania'], ['Nuuk', 'Greenland'], ['Oslo', 'Norway'], ['Ottawa', 'Canada'], ['Paramaribo', 'Suriname'], ['Paris', 'France'], ['Podgorica', 'Montenegro'], ['Quito', 'Ecuador'], ['Rabat', 'Morocco'], ['Riga', 'Latvia'], ['Rome', 'Italy'], ['Roseau', 'Dominica'], ['Santiago', 'Chile'], ['Skopje', 'Macedonia'], ['Sofia', 'Bulgaria'], ['Stockholm', 'Sweden'], ['Suva', 'Fiji'], ['Taipei', 'Taiwan'], ['Tallinn', 'Estonia'], ['Tashkent', 'Uzbekistan'], ['Tbilisi', 'Georgia'], ['Tegucigalpa', 'Honduras'], ['Tehran', 'Iran'], ['Thimphu', 'Bhutan'], ['Tirana', 'Albania'], ['Tokyo', 'Japan'], ['Tripoli', 'Libya'], ['Tunis', 'Tunisia'], ['Vaduz', 'Liechtenstein'], ['Valletta', 'Malta'], ['Vienna', 'Austria'], ['Vientiane', 'Laos'], ['Vilnius', 'Lithuania'], ['Warsaw', 'Poland'], ['Windhoek', 'Namibia'], ['Yerevan', 'Armenia'], ['Zagreb', 'Croatia']], 'gram1-adjective-to-adverb': [['amazing', 'amazingly'], ['apparent', 'apparently'], ['calm', 'calmly'], ['cheerful', 'cheerfully'], ['complete', 'completely'], ['efficient', 'efficiently'], ['fortunate', 'fortunately'], ['free', 'freely'], ['furious', 'furiously'], ['happy', 'happily'], ['immediate', 'immediately'], ['infrequent', 'infrequently'], ['lucky', 'luckily'], ['most', 'mostly'], ['obvious', 'obviously'], ['occasional', 'occasionally'], ['possible', 'possibly'], ['precise', 'precisely'], ['professional', 'professionally'], ['quick', 'quickly'], ['quiet', 'quietly'], ['rapid', 'rapidly'], ['rare', 'rarely'], ['reluctant', 'reluctantly'], ['safe', 'safely'], ['serious', 'seriously'], ['slow', 'slowly'], ['sudden', 'suddenly'], ['swift', 'swiftly'], ['typical', 'typically'], ['unfortunate', 'unfortunately'], ['usual', 'usually']]}\n"
          ]
        }
      ],
      "source": [
        "import json\n",
        "\n",
        "js_filename = os.path.join(path, \"relations.json\")\n",
        "with open(js_filename, 'r') as fp:\n",
        "    testtuples = json.load(fp)\n",
        "print(testtuples)"
      ]
    },
    {
      "cell_type": "markdown",
      "metadata": {
        "id": "weyJoFElACau"
      },
      "source": [
        "**Exercise** 1 Write a function which when given one (capital city, country) training pair can predict the capital\n",
        "of the other countries in the capital-common-countries list in testtuples\n"
      ]
    },
    {
      "cell_type": "code",
      "execution_count": 13,
      "metadata": {
        "colab": {
          "base_uri": "https://localhost:8080/"
        },
        "id": "773hF5DOoFiW",
        "outputId": "f78c7dd4-db2a-46e2-ae8a-92adf9f43c15"
      },
      "outputs": [
        {
          "output_type": "stream",
          "name": "stdout",
          "text": [
            "dict_keys(['gram3-comparative', 'gram8-plural', 'capital-common-countries', 'city-in-state', 'family', 'gram2-opposite', 'currency', 'gram4-superlative', 'gram6-nationality-adjective', 'gram7-past-tense', 'gram5-present-participle', 'capital-world', 'gram1-adjective-to-adverb'])\n",
            "\n"
          ]
        },
        {
          "output_type": "execute_result",
          "data": {
            "text/plain": [
              "[['Athens', 'Greece'],\n",
              " ['Baghdad', 'Iraq'],\n",
              " ['Bangkok', 'Thailand'],\n",
              " ['Beijing', 'China'],\n",
              " ['Berlin', 'Germany'],\n",
              " ['Bern', 'Switzerland'],\n",
              " ['Cairo', 'Egypt'],\n",
              " ['Canberra', 'Australia'],\n",
              " ['Hanoi', 'Vietnam'],\n",
              " ['Havana', 'Cuba'],\n",
              " ['Helsinki', 'Finland'],\n",
              " ['Islamabad', 'Pakistan'],\n",
              " ['Kabul', 'Afghanistan'],\n",
              " ['London', 'England'],\n",
              " ['Madrid', 'Spain'],\n",
              " ['Moscow', 'Russia'],\n",
              " ['Oslo', 'Norway'],\n",
              " ['Ottawa', 'Canada'],\n",
              " ['Paris', 'France'],\n",
              " ['Rome', 'Italy'],\n",
              " ['Stockholm', 'Sweden'],\n",
              " ['Tehran', 'Iran'],\n",
              " ['Tokyo', 'Japan']]"
            ]
          },
          "metadata": {},
          "execution_count": 13
        }
      ],
      "source": [
        "print(testtuples.keys())\n",
        "print()\n",
        "testtuples[\"capital-common-countries\"]"
      ]
    },
    {
      "cell_type": "code",
      "execution_count": 21,
      "metadata": {
        "colab": {
          "base_uri": "https://localhost:8080/"
        },
        "id": "BRE5LtzX64tB",
        "outputId": "a504b41a-d202-4fd6-f851-9d4aa60c5488"
      },
      "outputs": [
        {
          "output_type": "stream",
          "name": "stdout",
          "text": [
            "['Hanoi', 'Stockholm', 'Rome', 'Paris', 'Havana', 'Helsinki', 'Madrid', 'London', 'Berlin', 'Islamabad', 'Cairo', 'Athens', 'Oslo', 'Kabul', 'Ottawa', 'Baghdad', 'Tokyo', 'Bangkok', 'Bern', 'Tehran', 'Beijing', 'Moscow', 'Canberra']\n",
            "['Vietnam', 'Sweden', 'Italy', 'France', 'Cuba', 'Finland', 'Spain', 'England', 'Germany', 'Pakistan', 'Egypt', 'Greece', 'Norway', 'Afghanistan', 'Canada', 'Iraq', 'Japan', 'Thailand', 'Switzerland', 'Iran', 'China', 'Russia', 'Australia']\n"
          ]
        }
      ],
      "source": [
        "import random\n",
        "import numpy as np\n",
        "\n",
        "relation = \"capital-common-countries\"\n",
        "\n",
        "pairs = testtuples[relation]\n",
        "pairs = [(pair[0], pair[1]) for pair in pairs]\n",
        "random.shuffle(pairs)\n",
        "capitals = [pair[0] for pair in pairs]\n",
        "countries = [pair[1] for pair in pairs]\n",
        "\n",
        "print(capitals)\n",
        "print(countries)"
      ]
    },
    {
      "cell_type": "code",
      "execution_count": 15,
      "metadata": {
        "colab": {
          "base_uri": "https://localhost:8080/"
        },
        "id": "nE00ypq6IjZk",
        "outputId": "fdc694ac-2132-4c72-e84b-dd3371b41dce"
      },
      "outputs": [
        {
          "output_type": "stream",
          "name": "stdout",
          "text": [
            "('Brisbane', 'Australia') ('Canberra', 'Australia')\n",
            "('Tokyo', 'Japan') ('Tokyo', 'Japan')\n",
            "('Swiss', 'Switzerland') ('Bern', 'Switzerland')\n",
            "('Milan', 'Italy') ('Rome', 'Italy')\n",
            "('Berlin', 'Germany') ('Berlin', 'Germany')\n",
            "('Islamabad', 'Pakistan') ('Islamabad', 'Pakistan')\n",
            "('Beijing', 'China') ('Beijing', 'China')\n",
            "('Paris', 'France') ('Paris', 'France')\n",
            "('Greek', 'Greece') ('Athens', 'Greece')\n",
            "('Salford', 'England') ('London', 'England')\n",
            "('Norwegian', 'Norway') ('Oslo', 'Norway')\n",
            "('Ottawa', 'Canada') ('Ottawa', 'Canada')\n",
            "('Cairo', 'Egypt') ('Cairo', 'Egypt')\n",
            "('Afghan', 'Afghanistan') ('Kabul', 'Afghanistan')\n",
            "('Stockholm', 'Sweden') ('Stockholm', 'Sweden')\n",
            "('Havana', 'Cuba') ('Havana', 'Cuba')\n",
            "('Helsinki', 'Finland') ('Helsinki', 'Finland')\n",
            "('Baghdad', 'Iraq') ('Baghdad', 'Iraq')\n",
            "('Hanoi', 'Vietnam') ('Hanoi', 'Vietnam')\n",
            "('Tehran', 'Iran') ('Tehran', 'Iran')\n",
            "('Bangkok', 'Thailand') ('Bangkok', 'Thailand')\n",
            "('Madrid', 'Spain') ('Madrid', 'Spain')\n",
            "('Moscow', 'Russia') ('Moscow', 'Russia')\n",
            "no\n"
          ]
        }
      ],
      "source": [
        "def capitals_predict(training_sample, countries):\n",
        "    predict_capital = []\n",
        "    for country in countries:\n",
        "        # sample_captial - sample_country = predict_captial - predict_country\n",
        "        captial_possible = mymodel.most_similar(positive=[training_sample[0], country], negative=training_sample[1])\n",
        "        captial = captial_possible[0][0]\n",
        "        predict_capital.append((captial, country))\n",
        "    return predict_capital\n",
        "\n",
        "training_sample = pairs[0]\n",
        "\n",
        "predict_capitals = capitals_predict(training_sample, countries)\n",
        "\n",
        "for predict_pair, pair in zip(predict_capitals, pairs):\n",
        "    print(predict_pair, pair)"
      ]
    },
    {
      "cell_type": "markdown",
      "metadata": {
        "id": "eYggt0nfQ-Ij"
      },
      "source": [
        "Exercise 2 Use the correct answers, also given, to evaluate how accurate your capital-predictor is. You should\n",
        "calculate the average accuracy over all possible training pairs.\n"
      ]
    },
    {
      "cell_type": "code",
      "execution_count": 25,
      "metadata": {
        "colab": {
          "base_uri": "https://localhost:8080/"
        },
        "id": "qjEldEdPQ2pz",
        "outputId": "fde66f0c-f9e1-4baf-910c-71458dda2ec4"
      },
      "outputs": [
        {
          "output_type": "stream",
          "name": "stdout",
          "text": [
            "training on ('Hanoi', 'Vietnam'), accuracy: 0.6363636363636364\n",
            "training on ('Stockholm', 'Sweden'), accuracy: 0.8636363636363636\n",
            "training on ('Rome', 'Italy'), accuracy: 0.7727272727272727\n",
            "training on ('Paris', 'France'), accuracy: 0.7727272727272727\n",
            "training on ('Havana', 'Cuba'), accuracy: 0.6818181818181818\n",
            "training on ('Helsinki', 'Finland'), accuracy: 0.8636363636363636\n",
            "training on ('Madrid', 'Spain'), accuracy: 0.7272727272727273\n",
            "training on ('London', 'England'), accuracy: 0.8181818181818182\n",
            "training on ('Berlin', 'Germany'), accuracy: 0.8636363636363636\n",
            "training on ('Islamabad', 'Pakistan'), accuracy: 0.8181818181818182\n",
            "training on ('Cairo', 'Egypt'), accuracy: 0.8181818181818182\n",
            "training on ('Athens', 'Greece'), accuracy: 0.8181818181818182\n",
            "training on ('Oslo', 'Norway'), accuracy: 0.8181818181818182\n",
            "training on ('Kabul', 'Afghanistan'), accuracy: 0.6363636363636364\n",
            "training on ('Ottawa', 'Canada'), accuracy: 0.7272727272727273\n",
            "training on ('Baghdad', 'Iraq'), accuracy: 0.5909090909090909\n",
            "training on ('Tokyo', 'Japan'), accuracy: 0.7727272727272727\n",
            "training on ('Bangkok', 'Thailand'), accuracy: 0.7727272727272727\n",
            "training on ('Bern', 'Switzerland'), accuracy: 0.5454545454545454\n",
            "training on ('Tehran', 'Iran'), accuracy: 0.5909090909090909\n",
            "training on ('Beijing', 'China'), accuracy: 0.7272727272727273\n",
            "training on ('Moscow', 'Russia'), accuracy: 0.8181818181818182\n",
            "training on ('Canberra', 'Australia'), accuracy: 0.7272727272727273\n",
            "\n",
            "Mean accuracy: 0.7470355731225296, sd: 0.09172175008594699\n"
          ]
        }
      ],
      "source": [
        "accuracies = []\n",
        "\n",
        "def calculate_accuracy(pair):\n",
        "\n",
        "    predict_capitals = capitals_predict(pair, countries)\n",
        "    count = 0\n",
        "\n",
        "    for i in range(len(predict_capitals)):\n",
        "        if predict_capitals[i] == pairs[i] and pair != pairs[i]:\n",
        "            count += 1\n",
        "    accuracies.append(count / (len(pairs)-1))\n",
        "\n",
        "for pair in pairs:\n",
        "    calculate_accuracy(pair)\n",
        "\n",
        "for i, pair in enumerate(pairs):\n",
        "    print(\"training on {}, accuracy: {}\". format(pair, accuracies[i]))\n",
        "\n",
        "print()\n",
        "print(\"Mean accuracy: {}, sd: {}\".format(np.mean(accuracies), np.std(accuracies)))"
      ]
    },
    {
      "cell_type": "markdown",
      "source": [
        "Exercise 3 Looking at your predictions, can you think of an easy way to improve performance?\n"
      ],
      "metadata": {
        "id": "upbEXfm4mi2L"
      }
    },
    {
      "cell_type": "code",
      "source": [
        "import math\n",
        "\n",
        "def dot(a, b):\n",
        "    return sum(a * b)\n",
        "\n",
        "def cos(a, b):\n",
        "    ab_dot = dot(a, b)\n",
        "    a_length = dot(a, a)\n",
        "    b_length = dot(b, b)\n",
        "    if ab_dot == 0 or a_length == 0 or b_length == 0:\n",
        "        return 0\n",
        "    else:\n",
        "      return ab_dot / math.sqrt(a_length * b_length)"
      ],
      "metadata": {
        "id": "keH_0q-ug7Oz"
      },
      "execution_count": 17,
      "outputs": []
    },
    {
      "cell_type": "code",
      "source": [
        "def capitals_predict_by_cosine(pair, countries, capitals):\n",
        "    predict_capital = []\n",
        "    for country in countries:\n",
        "        predict_vector = mymodel[pair[0]] + mymodel[country] - mymodel[pair[1]]\n",
        "        cos_similarities = [(capital, cos(predict_vector, mymodel[capital])) for capital in capitals]\n",
        "        sorted_cos_similarities = sorted(cos_similarities, key=lambda x : x[1], reverse=True)\n",
        "        predict_capital.append((sorted_cos_similarities[0][0], country))\n",
        "    return predict_capital"
      ],
      "metadata": {
        "id": "Yz4QQnIznxYb"
      },
      "execution_count": 18,
      "outputs": []
    },
    {
      "cell_type": "code",
      "source": [
        "accuracies = []\n",
        "\n",
        "def calculate_accuracy_by_cosine():\n",
        "    for pair in pairs:\n",
        "        predict_capitals = capitals_predict_by_cosine(pair, countries, capitals)\n",
        "        count = 0\n",
        "        for i in range(len(predict_capitals)):\n",
        "            if predict_capitals[i] == pairs[i] and pairs[i] != pair:\n",
        "                count += 1\n",
        "        accuracies.append(count / (len(pairs)-1))\n",
        "\n",
        "calculate_accuracy_by_cosine()\n",
        "\n",
        "for i, pair in enumerate(pairs):\n",
        "    print(\"training on {}, accuracy: {}\". format(pair, accuracies[i]))\n",
        "\n",
        "print()\n",
        "print(\"Mean accuracy: {}, sd: {}\".format(np.mean(accuracies),np.std(accuracies)))"
      ],
      "metadata": {
        "colab": {
          "base_uri": "https://localhost:8080/"
        },
        "id": "kxNas3KyrWXc",
        "outputId": "b5edc9eb-068c-4f2d-ed5a-75e4bb7b9e10"
      },
      "execution_count": 26,
      "outputs": [
        {
          "output_type": "stream",
          "name": "stdout",
          "text": [
            "training on ('Hanoi', 'Vietnam'), accuracy: 0.9090909090909091\n",
            "training on ('Stockholm', 'Sweden'), accuracy: 0.8181818181818182\n",
            "training on ('Rome', 'Italy'), accuracy: 0.8636363636363636\n",
            "training on ('Paris', 'France'), accuracy: 0.9545454545454546\n",
            "training on ('Havana', 'Cuba'), accuracy: 0.9545454545454546\n",
            "training on ('Helsinki', 'Finland'), accuracy: 0.8181818181818182\n",
            "training on ('Madrid', 'Spain'), accuracy: 0.8636363636363636\n",
            "training on ('London', 'England'), accuracy: 0.8636363636363636\n",
            "training on ('Berlin', 'Germany'), accuracy: 0.9090909090909091\n",
            "training on ('Islamabad', 'Pakistan'), accuracy: 0.9545454545454546\n",
            "training on ('Cairo', 'Egypt'), accuracy: 0.9545454545454546\n",
            "training on ('Athens', 'Greece'), accuracy: 1.0\n",
            "training on ('Oslo', 'Norway'), accuracy: 0.7727272727272727\n",
            "training on ('Kabul', 'Afghanistan'), accuracy: 0.8181818181818182\n",
            "training on ('Ottawa', 'Canada'), accuracy: 0.9090909090909091\n",
            "training on ('Baghdad', 'Iraq'), accuracy: 0.8636363636363636\n",
            "training on ('Tokyo', 'Japan'), accuracy: 0.9090909090909091\n",
            "training on ('Bangkok', 'Thailand'), accuracy: 0.9545454545454546\n",
            "training on ('Bern', 'Switzerland'), accuracy: 0.3181818181818182\n",
            "training on ('Tehran', 'Iran'), accuracy: 1.0\n",
            "training on ('Beijing', 'China'), accuracy: 0.9545454545454546\n",
            "training on ('Moscow', 'Russia'), accuracy: 0.9545454545454546\n",
            "training on ('Canberra', 'Australia'), accuracy: 0.8181818181818182\n",
            "\n",
            "Mean accuracy: 0.8754940711462448, sd: 0.13418375649618935\n"
          ]
        }
      ]
    },
    {
      "cell_type": "markdown",
      "source": [
        "Exercise 4 Adapt your code so that you can predict the country of which a city is capital. Is performance the\n",
        "same, higher or lower this way round?\n"
      ],
      "metadata": {
        "id": "wOVUoQYR4gH0"
      }
    },
    {
      "cell_type": "code",
      "source": [
        "def countries_predict_by_cosine(pair, countries, capitals):\n",
        "    predict_country = []\n",
        "    for captial in capitals:\n",
        "        # sample_country - sample_capital = predict_country - predict_capital\n",
        "        predict_vector = mymodel[pair[1]] + mymodel[captial] - mymodel[pair[0]]\n",
        "        cos_similarities = [(country, cos(predict_vector, mymodel[country])) for country in countries]\n",
        "        sorted_cos_similarities = sorted(cos_similarities, key=lambda x : x[1], reverse=True)\n",
        "        predict_country.append((captial, sorted_cos_similarities[0][0]))\n",
        "    return predict_country\n",
        "\n",
        "accuracies_countries = []\n",
        "\n",
        "def calculate_accuracy_of_countries():\n",
        "    for pair in pairs:\n",
        "        predict_countries = countries_predict_by_cosine(pair, countries, capitals)\n",
        "        count = 0\n",
        "        for i in range(len(predict_countries)):\n",
        "            if predict_countries[i] == pairs[i] and pairs[i] != pair:\n",
        "                count += 1\n",
        "        accuracies_countries.append(count / (len(pairs)-1))\n",
        "\n",
        "calculate_accuracy_of_countries()\n",
        "\n",
        "for i, pair in enumerate(pairs):\n",
        "    print(\"training on {}, accuracy: {}\". format(pair, accuracies_countries[i]))\n",
        "\n",
        "print()\n",
        "print(\"Mean accuracy: {}, sd: {}\".format(np.mean(accuracies_countries),np.std(accuracies_countries)))"
      ],
      "metadata": {
        "colab": {
          "base_uri": "https://localhost:8080/"
        },
        "id": "IFYn8LWS4fal",
        "outputId": "38bfbe81-6728-4060-8eec-89c48d83abf3"
      },
      "execution_count": 33,
      "outputs": [
        {
          "output_type": "stream",
          "name": "stdout",
          "text": [
            "training on ('Hanoi', 'Vietnam'), accuracy: 0.9545454545454546\n",
            "training on ('Stockholm', 'Sweden'), accuracy: 1.0\n",
            "training on ('Rome', 'Italy'), accuracy: 0.9545454545454546\n",
            "training on ('Paris', 'France'), accuracy: 1.0\n",
            "training on ('Havana', 'Cuba'), accuracy: 1.0\n",
            "training on ('Helsinki', 'Finland'), accuracy: 1.0\n",
            "training on ('Madrid', 'Spain'), accuracy: 1.0\n",
            "training on ('London', 'England'), accuracy: 0.7727272727272727\n",
            "training on ('Berlin', 'Germany'), accuracy: 0.9545454545454546\n",
            "training on ('Islamabad', 'Pakistan'), accuracy: 1.0\n",
            "training on ('Cairo', 'Egypt'), accuracy: 1.0\n",
            "training on ('Athens', 'Greece'), accuracy: 0.9545454545454546\n",
            "training on ('Oslo', 'Norway'), accuracy: 1.0\n",
            "training on ('Kabul', 'Afghanistan'), accuracy: 1.0\n",
            "training on ('Ottawa', 'Canada'), accuracy: 1.0\n",
            "training on ('Baghdad', 'Iraq'), accuracy: 1.0\n",
            "training on ('Tokyo', 'Japan'), accuracy: 1.0\n",
            "training on ('Bangkok', 'Thailand'), accuracy: 1.0\n",
            "training on ('Bern', 'Switzerland'), accuracy: 0.9090909090909091\n",
            "training on ('Tehran', 'Iran'), accuracy: 1.0\n",
            "training on ('Beijing', 'China'), accuracy: 1.0\n",
            "training on ('Moscow', 'Russia'), accuracy: 1.0\n",
            "training on ('Canberra', 'Australia'), accuracy: 1.0\n",
            "\n",
            "Mean accuracy: 0.9782608695652174, sd: 0.04991830411191734\n"
          ]
        }
      ]
    }
  ],
  "metadata": {
    "colab": {
      "provenance": []
    },
    "kernelspec": {
      "display_name": "Python 3",
      "name": "python3"
    },
    "language_info": {
      "name": "python"
    }
  },
  "nbformat": 4,
  "nbformat_minor": 0
}